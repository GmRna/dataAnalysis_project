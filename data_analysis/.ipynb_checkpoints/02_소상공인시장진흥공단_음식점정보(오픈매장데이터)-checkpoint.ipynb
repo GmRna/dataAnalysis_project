{
 "cells": [
  {
   "cell_type": "code",
   "execution_count": 1,
   "id": "f5d8be51",
   "metadata": {},
   "outputs": [],
   "source": [
    "import pandas as pd\n",
    "import pickle\n",
    "df = pd.read_csv('../dataSet/소상공인시장진흥공단_상가(상권)정보_서울.csv')"
   ]
  },
  {
   "cell_type": "markdown",
   "id": "fc14ea23",
   "metadata": {},
   "source": [
    "### 오픈 매장 데이터"
   ]
  },
  {
   "cell_type": "code",
   "execution_count": 2,
   "id": "08124097",
   "metadata": {},
   "outputs": [
    {
     "name": "stdout",
     "output_type": "stream",
     "text": [
      "<class 'pandas.core.frame.DataFrame'>\n",
      "RangeIndex: 346229 entries, 0 to 346228\n",
      "Data columns (total 16 columns):\n",
      " #   Column    Non-Null Count   Dtype  \n",
      "---  ------    --------------   -----  \n",
      " 0   상가업소번호    346229 non-null  int64  \n",
      " 1   상호명       346229 non-null  object \n",
      " 2   상권업종대분류명  346229 non-null  object \n",
      " 3   상권업종중분류명  346229 non-null  object \n",
      " 4   상권업종소분류명  346229 non-null  object \n",
      " 5   행정동코드     346229 non-null  int64  \n",
      " 6   행정동명      346229 non-null  object \n",
      " 7   법정동코드     346229 non-null  int64  \n",
      " 8   법정동명      346229 non-null  object \n",
      " 9   지번코드      346229 non-null  int64  \n",
      " 10  지번주소      346229 non-null  object \n",
      " 11  도로명코드     346229 non-null  int64  \n",
      " 12  도로명       346229 non-null  object \n",
      " 13  도로명주소     346229 non-null  object \n",
      " 14  경도        346229 non-null  float64\n",
      " 15  위도        346229 non-null  float64\n",
      "dtypes: float64(2), int64(5), object(9)\n",
      "memory usage: 42.3+ MB\n"
     ]
    }
   ],
   "source": [
    "''' \n",
    "'지점명','시도코드','시도명','시군구코드',\n",
    "'시군구명','대지구분코드','대지구분명','지번본번지','지번부번지','건물본번지',\n",
    "'건물부번지','건물관리번호','건물명','호정보','동정보','층정보','구우편번호',\n",
    "'신우편번호','표준산업분류코드','표준산업분류명','상권업종대분류코드','상권업종중분류코드','상권업종소분류코드' 제외\n",
    "'''\n",
    "df.drop(df[['지점명','시도코드','시도명','시군구코드','시군구명','대지구분코드','대지구분명','지번본번지','지번부번지','건물본번지','건물부번지','건물관리번호','건물명','호정보','동정보','층정보','구우편번호','신우편번호','표준산업분류코드','표준산업분류명','상권업종대분류코드','상권업종중분류코드','상권업종소분류코드']], axis=1, inplace=True)\n",
    "df.info()"
   ]
  },
  {
   "cell_type": "code",
   "execution_count": 4,
   "id": "cdfa22f4",
   "metadata": {},
   "outputs": [
    {
     "name": "stdout",
     "output_type": "stream",
     "text": [
      "------------------------------------한식------------------------------------\n",
      "Index(['한식/백반/한정식', '갈비/삼겹살', '족발/보쌈전문', '곱창/양구이전문', '해장국/감자탕', '기타고기요리',\n",
      "       '부대찌개/섞어찌개', '냉면집', '설렁탕집', '추어탕전문', '파전전문', '한정식전문', '보리밥전문', '두부요리전문',\n",
      "       '쌈밥전문', '순두부전문', '돌솥/비빕밥전문점', '기사식당', '황태전문', '버섯전문점', '재첩국전문'],\n",
      "      dtype='object')\n",
      "------------------------------------커피점/카페------------------------------------\n",
      "Index(['커피전문점/카페/다방', '전통찻집/인삼찻집', '사주카페', '보드게임카페', '애견카페', '생과일주스전문점'], dtype='object')\n",
      "------------------------------------유흥주점------------------------------------\n",
      "Index(['호프/맥주', '룸살롱/단란주점', '소주방/포장마차', '기타일반유흥주점', '빠/카페/스탠드빠', '꼬치구이전문점',\n",
      "       '민속주점', '로바다야끼', '관광/유흥주점', '락카페'],\n",
      "      dtype='object')\n",
      "------------------------------------분식------------------------------------\n",
      "Index(['라면김밥분식', '국수/만두/칼국수', '떡볶이전문', '우동전문점', '스낵'], dtype='object')\n",
      "------------------------------------일식/수산물------------------------------------\n",
      "Index(['음식점-일식', '음식점-초밥전문', '횟집', '낙지/오징어', '참치전문점', '수산물전문음식점-종합', '해물찜/탕전문',\n",
      "       '민물장어전문', '아구전문', '매운탕전문', '갈치/생선구이', '복전문', '곰장어전문', '홍어전문',\n",
      "       '바닷가재/게요리전문', '조개구이전문', '게장전문', '굴요리전문', '고등어전문'],\n",
      "      dtype='object')\n",
      "------------------------------------양식------------------------------------\n",
      "Index(['정통양식/경양식', '기타전문서양음식점', '돈가스전문점', '스파게티전문점', '패밀리레스토랑', '스테이크전문점',\n",
      "       '바베큐전문', '카레전문점'],\n",
      "      dtype='object')\n",
      "------------------------------------패스트푸드------------------------------------\n",
      "Index(['피자전문', '패스트푸드', '아이스크림판매', '도시락전문점', '샌드위치전문점', '도너츠전문', '토스트전문',\n",
      "       '핫도그', '생과자점', '유산균아이스크림전문'],\n",
      "      dtype='object')\n",
      "------------------------------------닭/오리요리------------------------------------\n",
      "Index(['후라이드/양념치킨', '닭갈비전문', '삼계탕전문', '닭내장/닭발요리', '오리고기전문', '찜닭전문점', '닭도리탕전문',\n",
      "       '불닭전문', '옻닭전문', '토종닭전문'],\n",
      "      dtype='object')\n",
      "------------------------------------제과제빵떡케익------------------------------------\n",
      "Index(['제과점', '떡전문', '케익전문점', '떡/한과집', '찐빵전문'], dtype='object')\n",
      "------------------------------------중식------------------------------------\n",
      "Index(['중국음식/중국집', '탕수육전문점'], dtype='object')\n",
      "------------------------------------별식/퓨전요리------------------------------------\n",
      "Index(['순대전문점', '동남아음식전문점', '죽전문점', '샤브샤브전문', '퓨전음식전문', '사철탕전문', '철판구이요리전문',\n",
      "       '돌구이요리전문', '징기스칸요리전문'],\n",
      "      dtype='object')\n",
      "------------------------------------기타음식업------------------------------------\n",
      "Index(['구내식당/자급식음식점', '고속도로휴게소'], dtype='object')\n",
      "------------------------------------부페------------------------------------\n",
      "Index(['종합부페', '한식부페', '고기부페', '채식/한식부페', '해물부페'], dtype='object')\n",
      "------------------------------------음식배달서비스------------------------------------\n",
      "Index(['야식집', '음식출장조달', '국/찌개배달'], dtype='object')\n"
     ]
    }
   ],
   "source": [
    "# 음식점 종류 확인\n",
    "restaurant = df[df['상권업종대분류명'] == '음식']\n",
    "rList = list(restaurant['상권업종중분류명'].value_counts().index)\n",
    "for i in rList:\n",
    "    print('------------------------------------{}------------------------------------'.format(i))\n",
    "    print(df[df['상권업종중분류명'] == '{}'.format(i)]['상권업종소분류명'].value_counts().index)"
   ]
  },
  {
   "cell_type": "code",
   "execution_count": 5,
   "id": "78e176c4",
   "metadata": {},
   "outputs": [],
   "source": [
    "# 통계에서 필터링할 소분류 삭제\n",
    "delList = ['룸살롱/단란주점', '락카페','사주카페','보드게임카페','애견카페','관광/유흥주점']\n",
    "for d in delList:\n",
    "    dl = df[df['상권업종소분류명'].str.contains('{}'.format(d))].index\n",
    "    df.drop(dl, inplace=True)"
   ]
  },
  {
   "cell_type": "code",
   "execution_count": 7,
   "id": "f77e8df0",
   "metadata": {},
   "outputs": [],
   "source": [
    "# 통계에서 필터링할 중분류 삭제\n",
    "mid_delList = ['기타음식업', '음식배달서비스']\n",
    "for d in mid_delList:\n",
    "    dl = df[df['상권업종중분류명'].str.contains('{}'.format(d))].index\n",
    "    df.drop(dl, inplace=True)"
   ]
  },
  {
   "cell_type": "code",
   "execution_count": 9,
   "id": "27535023",
   "metadata": {},
   "outputs": [],
   "source": [
    "# 분류 고치기 - 중분류\n",
    "mid_category_Change = ['제과제빵떡케익','커피점/카페']\n",
    "for c in mid_category_Change:\n",
    "    df.loc[df['상권업종중분류명'] == '{}'.format(c), '상권업종중분류명'] = '디저트/카페'\n",
    "df.loc[df['상권업종중분류명'] == '별식/퓨전요리', '상권업종중분류명'] = '기타요리업종'"
   ]
  },
  {
   "cell_type": "code",
   "execution_count": 10,
   "id": "f0ac3dfc",
   "metadata": {},
   "outputs": [],
   "source": [
    "# 분류 고치기 - 소분류\n",
    "# 디저트/카페\n",
    "small_category_Change = ['아이스크림판매','도너츠전문','생과자점','유산균아이스크림전문']\n",
    "for sc in small_category_Change:\n",
    "    df.loc[df['상권업종소분류명'] == '{}'.format(sc), '상권업종중분류명'] = '디저트/카페'\n",
    "\n",
    "korea = ['순대전문점','죽전문점']\n",
    "for k in korea:\n",
    "    df.loc[df['상권업종소분류명'] == '{}'.format(k), '상권업종중분류명'] = '한식'\n",
    "    \n",
    "japan = ['철판구이요리전문','로바다야끼']\n",
    "for j in japan:\n",
    "    df.loc[df['상권업종소분류명'] == '{}'.format(j), '상권업종중분류명'] = '일식/수산물'"
   ]
  },
  {
   "cell_type": "code",
   "execution_count": 12,
   "id": "bdc7b37c",
   "metadata": {},
   "outputs": [
    {
     "data": {
      "text/plain": [
       "['한식',\n",
       " '디저트/카페',\n",
       " '유흥주점',\n",
       " '분식',\n",
       " '일식/수산물',\n",
       " '양식',\n",
       " '닭/오리요리',\n",
       " '패스트푸드',\n",
       " '중식',\n",
       " '기타요리업종',\n",
       " '부페']"
      ]
     },
     "execution_count": 12,
     "metadata": {},
     "output_type": "execute_result"
    }
   ],
   "source": [
    "list(restaurant['상권업종중분류명'].value_counts().index)"
   ]
  },
  {
   "cell_type": "code",
   "execution_count": 13,
   "id": "9e1a0a05",
   "metadata": {},
   "outputs": [
    {
     "name": "stdout",
     "output_type": "stream",
     "text": [
      "0\n",
      "1\n",
      "2\n",
      "3\n",
      "4\n",
      "5\n",
      "6\n",
      "7\n",
      "8\n",
      "9\n",
      "10\n"
     ]
    },
    {
     "data": {
      "text/plain": [
       "Int64Index([0, 1, 2, 3, 4, 5, 6, 7, 8, 9, 10], dtype='int64')"
      ]
     },
     "execution_count": 13,
     "metadata": {},
     "output_type": "execute_result"
    }
   ],
   "source": [
    "'''\n",
    "중분류 코드 숫자화\n",
    "한식 : 0\n",
    "디저트/카페 : 1   \n",
    "유흥주점 : 2\n",
    "분식 : 3 \n",
    "일식/수산물 : 4\n",
    "양식 : 5\n",
    "닭/오리요리 : 6\n",
    "패스트푸드 : 7\n",
    "중식 : 8\n",
    "기타요리업종 : 9\n",
    "부페 : 10\n",
    "'''\n",
    "mid_list = list(restaurant['상권업종중분류명'].value_counts().index)\n",
    "num = 0\n",
    "for i in mid_list:\n",
    "    print(num)\n",
    "    restaurant.loc[restaurant['상권업종중분류명'] == '{}'.format(i), '상권업종중분류명'] = num\n",
    "    num += 1\n",
    "restaurant['상권업종중분류명'].value_counts().index"
   ]
  },
  {
   "cell_type": "code",
   "execution_count": 14,
   "id": "7089470c",
   "metadata": {},
   "outputs": [],
   "source": [
    "# pKl 파일 저장\n",
    "with open('restaurant.pkl', 'wb') as f:\n",
    "    pickle.dump(restaurant, f, protocol=pickle.HIGHEST_PROTOCOL)"
   ]
  }
 ],
 "metadata": {
  "kernelspec": {
   "display_name": "Python 3 (ipykernel)",
   "language": "python",
   "name": "python3"
  },
  "language_info": {
   "codemirror_mode": {
    "name": "ipython",
    "version": 3
   },
   "file_extension": ".py",
   "mimetype": "text/x-python",
   "name": "python",
   "nbconvert_exporter": "python",
   "pygments_lexer": "ipython3",
   "version": "3.9.13"
  }
 },
 "nbformat": 4,
 "nbformat_minor": 5
}
