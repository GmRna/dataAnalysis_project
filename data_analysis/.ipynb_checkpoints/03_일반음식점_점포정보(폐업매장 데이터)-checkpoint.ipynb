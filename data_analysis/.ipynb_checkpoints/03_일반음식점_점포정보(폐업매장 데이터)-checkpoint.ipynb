{
 "cells": [
  {
   "cell_type": "code",
   "execution_count": 1,
   "id": "1100a8eb",
   "metadata": {},
   "outputs": [],
   "source": [
    "import pickle"
   ]
  },
  {
   "cell_type": "code",
   "execution_count": 2,
   "id": "e09b2506",
   "metadata": {},
   "outputs": [
    {
     "name": "stderr",
     "output_type": "stream",
     "text": [
      "/var/folders/zj/8lw855694yn2gfnq37_2g_vh0000gn/T/ipykernel_58010/760206507.py:2: DtypeWarning: Columns (22,27,39,41,44,45) have mixed types. Specify dtype option on import or set low_memory=False.\n",
      "  df = pd.read_csv('../dataSet/일반음식점_점포정보.csv', encoding='cp949')\n"
     ]
    },
    {
     "name": "stdout",
     "output_type": "stream",
     "text": [
      "<class 'pandas.core.frame.DataFrame'>\n",
      "RangeIndex: 2018765 entries, 0 to 2018764\n",
      "Data columns (total 48 columns):\n",
      " #   Column       Dtype  \n",
      "---  ------       -----  \n",
      " 0   번호           int64  \n",
      " 1   개방서비스명       object \n",
      " 2   개방서비스아이디     object \n",
      " 3   개방자치단체코드     int64  \n",
      " 4   관리번호         object \n",
      " 5   인허가일자        int64  \n",
      " 6   인허가취소일자      float64\n",
      " 7   영업상태구분코드     int64  \n",
      " 8   영업상태명        object \n",
      " 9   상세영업상태코드     int64  \n",
      " 10  상세영업상태명      object \n",
      " 11  폐업일자         float64\n",
      " 12  휴업시작일자       float64\n",
      " 13  휴업종료일자       float64\n",
      " 14  재개업일자        float64\n",
      " 15  소재지전화        object \n",
      " 16  소재지면적        object \n",
      " 17  소재지우편번호      float64\n",
      " 18  소재지전체주소      object \n",
      " 19  도로명전체주소      object \n",
      " 20  도로명우편번호      float64\n",
      " 21  사업장명         object \n",
      " 22  최종수정시점       object \n",
      " 23  데이터갱신구분      object \n",
      " 24  데이터갱신일자      object \n",
      " 25  업태구분명        object \n",
      " 26  좌표정보(x)      float64\n",
      " 27  좌표정보(y)      object \n",
      " 28  위생업태명        object \n",
      " 29  남성종사자수       float64\n",
      " 30  여성종사자수       float64\n",
      " 31  영업장주변구분명     object \n",
      " 32  등급구분명        object \n",
      " 33  급수시설구분명      object \n",
      " 34  총직원수         float64\n",
      " 35  본사직원수        float64\n",
      " 36  공장사무직직원수     float64\n",
      " 37  공장판매직직원수     float64\n",
      " 38  공장생산직직원수     float64\n",
      " 39  건물소유구분명      object \n",
      " 40  보증액          float64\n",
      " 41  월세액          object \n",
      " 42  다중이용업소여부     object \n",
      " 43  시설총규모        float64\n",
      " 44  전통업소지정번호     object \n",
      " 45  전통업소주된음식     object \n",
      " 46  홈페이지         float64\n",
      " 47  Unnamed: 47  float64\n",
      "dtypes: float64(19), int64(5), object(24)\n",
      "memory usage: 739.3+ MB\n"
     ]
    }
   ],
   "source": [
    "import pandas as pd\n",
    "df = pd.read_csv('../dataSet/일반음식점_점포정보.csv', encoding='cp949')\n",
    "df.info()"
   ]
  },
  {
   "cell_type": "code",
   "execution_count": 157,
   "id": "f97efd4c",
   "metadata": {},
   "outputs": [],
   "source": [
    "code = [3000000,3010000,3020000,3030000,3040000,3050000,3060000,3070000,3080000\n",
    "        ,3090000,3100000,3110000,3120000,3130000,3140000,3150000,3160000,3170000\n",
    "        ,3180000,3190000,3200000,3210000,3220000,3230000,3240000]\n",
    "restaurant = df[['번호','개방자치단체코드','인허가일자','영업상태명','폐업일자','업태구분명','좌표정보(x)','좌표정보(y)']]\n",
    "restaurant_closing =  restaurant[restaurant['영업상태명'] == '폐업']\n",
    "restaurant_closing = restaurant_closing.reset_index()"
   ]
  },
  {
   "cell_type": "code",
   "execution_count": 158,
   "id": "28bd060c",
   "metadata": {},
   "outputs": [],
   "source": [
    "df1 = pd.DataFrame(columns=['번호','개방자치단체코드','인허가일자','영업상태명','폐업일자','업태구분명','좌표정보(x)','좌표정보(y)'])\n",
    "for i in code:\n",
    "    temp = restaurant_closing[restaurant_closing['개방자치단체코드'] == i]\n",
    "    df1 = pd.concat([df1,temp], ignore_index=True)"
   ]
  },
  {
   "cell_type": "code",
   "execution_count": 159,
   "id": "acac1aed",
   "metadata": {},
   "outputs": [],
   "source": [
    "df2 = pd.DataFrame(columns=['번호','개방자치단체코드','인허가일자','영업상태명','폐업일자','업태구분명','좌표정보(x)','좌표정보(y)'])\n",
    "restaurant = df1[['번호','개방자치단체코드','인허가일자','영업상태명','폐업일자','업태구분명','좌표정보(x)','좌표정보(y)']]\n",
    "for i in range(0, len(restaurant)):\n",
    "    if str(int(restaurant['폐업일자'][i]))[:4] == '2021':\n",
    "        temp = restaurant[i:i+1]\n",
    "        df2 = pd.concat([df2,temp], ignore_index=True)"
   ]
  },
  {
   "cell_type": "code",
   "execution_count": 160,
   "id": "c1fd7b23",
   "metadata": {},
   "outputs": [
    {
     "data": {
      "text/plain": [
       "(0, 0)"
      ]
     },
     "execution_count": 160,
     "metadata": {},
     "output_type": "execute_result"
    }
   ],
   "source": [
    "# 결측치 대체\n",
    "df2['좌표정보(x)'].fillna('정보없음', inplace=True)\n",
    "df2['좌표정보(y)'].fillna('정보없음', inplace=True)\n",
    "df2['좌표정보(x)'].isnull().sum(), df2['좌표정보(y)'].isnull().sum()"
   ]
  },
  {
   "cell_type": "code",
   "execution_count": 161,
   "id": "8d3195f8",
   "metadata": {},
   "outputs": [
    {
     "data": {
      "text/plain": [
       "한식                 5284\n",
       "기타                 2201\n",
       "호프/통닭              1218\n",
       "분식                  995\n",
       "경양식                 984\n",
       "일식                  580\n",
       "중국식                 406\n",
       "통닭(치킨)              264\n",
       "까페                  256\n",
       "정종/대포집/소주방          233\n",
       "외국음식전문점(인도,태국등)     155\n",
       "식육(숯불구이)             78\n",
       "김밥(도시락)              67\n",
       "횟집                   66\n",
       "뷔페식                  65\n",
       "패스트푸드                61\n",
       "패밀리레스트랑              24\n",
       "탕류(보신용)              18\n",
       "감성주점                 18\n",
       "라이브카페                14\n",
       "전통찻집                  7\n",
       "복어취급                  6\n",
       "냉면집                   4\n",
       "일반조리판매                1\n",
       "Name: 업태구분명, dtype: int64"
      ]
     },
     "execution_count": 161,
     "metadata": {},
     "output_type": "execute_result"
    }
   ],
   "source": [
    "# 통계에서 삭제할 업태구분명\n",
    "delList = ['출장조리', '이동조리', '다방', '식품소분업', '식품등 수입판매업', '룸살롱', '193959.150482967', '키즈카페','업태구분명없음']\n",
    "for d in delList:\n",
    "    dl = df2[df2['업태구분명'] == '{}'.format(d)]\n",
    "    df2.drop(dl.index, inplace=True)\n",
    "df2['업태구분명'].value_counts()"
   ]
  },
  {
   "cell_type": "code",
   "execution_count": 162,
   "id": "73ba36fa",
   "metadata": {},
   "outputs": [],
   "source": [
    "# 업태구분명 변경\n",
    "seoul = df2\n",
    "korea = ['식육(숯불구이)', '탕류(보신용)', '복어취급', '냉면집']\n",
    "desert = ['까페', '전통찻집', '커피숍', '제과점영업']\n",
    "fast = ['패스트푸드', '김밥(도시락)']\n",
    "buffet = ['뷔페식']\n",
    "drink = ['정종/대포집/소주방', '감성주점', '간이주점', '라이브카페']\n",
    "chinese = ['중국식']\n",
    "western = ['경양식', '패밀리레스트랑']\n",
    "chicken = ['통닭(치킨)', '호프/통닭']\n",
    "etc = ['기타', '외국음식전문점(인도,태국등)', '기타 휴게음식점', '일반조리판매']\n",
    "japanese = ['일식', '횟집']\n",
    "snack = ['분식']\n",
    "business = [korea, desert, fast, buffet, drink, chinese, western, chicken, etc, japanese, snack]\n",
    "\n",
    "# 변경\n",
    "for b in business:\n",
    "    for k in b:\n",
    "        if b == korea:\n",
    "            seoul.loc[seoul['업태구분명'] == '{}'.format(k), '업태구분명'] = '한식'\n",
    "        if b == desert:\n",
    "            seoul.loc[seoul['업태구분명'] == '{}'.format(k), '업태구분명'] = '디저트/카페'\n",
    "        if b == fast:\n",
    "            seoul.loc[seoul['업태구분명'] == '{}'.format(k), '업태구분명'] = '패스트푸드'\n",
    "        if b == buffet:\n",
    "            seoul.loc[seoul['업태구분명'] == '{}'.format(k), '업태구분명'] = '부페'\n",
    "        if b == drink:\n",
    "            seoul.loc[seoul['업태구분명'] == '{}'.format(k), '업태구분명'] = '유흥주점'\n",
    "        if b == chinese:\n",
    "            seoul.loc[seoul['업태구분명'] == '{}'.format(k), '업태구분명'] = '중식'\n",
    "        if b == western:\n",
    "            seoul.loc[seoul['업태구분명'] == '{}'.format(k), '업태구분명'] = '양식'\n",
    "        if b == chicken:\n",
    "            seoul.loc[seoul['업태구분명'] == '{}'.format(k), '업태구분명'] = '닭/오리요리'\n",
    "        if b == etc:\n",
    "            seoul.loc[seoul['업태구분명'] == '{}'.format(k), '업태구분명'] = '기타요리업종'\n",
    "        if b == japanese:\n",
    "            seoul.loc[seoul['업태구분명'] == '{}'.format(k), '업태구분명'] = '일식/수산물'\n",
    "        if b == snack:\n",
    "            seoul.loc[seoul['업태구분명'] == '{}'.format(k), '업태구분명'] = '분식'"
   ]
  },
  {
   "cell_type": "code",
   "execution_count": 163,
   "id": "5a685176",
   "metadata": {},
   "outputs": [
    {
     "data": {
      "text/plain": [
       "한식        5390\n",
       "기타요리업종    2357\n",
       "닭/오리요리    1482\n",
       "양식        1008\n",
       "분식         995\n",
       "일식/수산물     646\n",
       "중식         406\n",
       "유흥주점       265\n",
       "디저트/카페     263\n",
       "패스트푸드      128\n",
       "부페          65\n",
       "Name: 업태구분명, dtype: int64"
      ]
     },
     "execution_count": 163,
     "metadata": {},
     "output_type": "execute_result"
    }
   ],
   "source": [
    "# 통계에서 삭제할 업태구분명\n",
    "delList = ['출장조리', '이동조리', '다방', '식품소분업', '식품등 수입판매업', '룸살롱', '193959.150482967', '키즈카페','업태구분명없음']\n",
    "for d in delList:\n",
    "    dl = seoul[seoul['업태구분명'] == '{}'.format(d)]\n",
    "    seoul.drop(dl.index, inplace=True)\n",
    "seoul['업태구분명'].value_counts()"
   ]
  },
  {
   "cell_type": "code",
   "execution_count": 164,
   "id": "9a2f8b71",
   "metadata": {},
   "outputs": [],
   "source": [
    "# pKl 파일 저장\n",
    "with open('restaurant_closing.pkl', 'wb') as f:\n",
    "    pickle.dump(seoul, f, protocol=pickle.HIGHEST_PROTOCOL)"
   ]
  }
 ],
 "metadata": {
  "kernelspec": {
   "display_name": "Python 3 (ipykernel)",
   "language": "python",
   "name": "python3"
  },
  "language_info": {
   "codemirror_mode": {
    "name": "ipython",
    "version": 3
   },
   "file_extension": ".py",
   "mimetype": "text/x-python",
   "name": "python",
   "nbconvert_exporter": "python",
   "pygments_lexer": "ipython3",
   "version": "3.9.13"
  }
 },
 "nbformat": 4,
 "nbformat_minor": 5
}
