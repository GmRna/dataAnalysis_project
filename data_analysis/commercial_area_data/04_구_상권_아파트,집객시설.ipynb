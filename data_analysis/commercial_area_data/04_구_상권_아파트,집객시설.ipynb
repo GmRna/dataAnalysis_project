{
 "cells": [
  {
   "cell_type": "code",
   "execution_count": 2,
   "id": "ea3de97a",
   "metadata": {},
   "outputs": [],
   "source": [
    "import pandas as pd\n",
    "import numpy as np"
   ]
  },
  {
   "cell_type": "code",
   "execution_count": 9,
   "id": "bbd159a6",
   "metadata": {},
   "outputs": [
    {
     "name": "stdout",
     "output_type": "stream",
     "text": [
      "<class 'pandas.core.frame.DataFrame'>\n",
      "Int64Index: 5414 entries, 0 to 5413\n",
      "Data columns (total 21 columns):\n",
      " #   Column                  Non-Null Count  Dtype  \n",
      "---  ------                  --------------  -----  \n",
      " 0   기준_년_코드                 5414 non-null   int64  \n",
      " 1   상권_구분_코드                5414 non-null   object \n",
      " 2   상권_구분_코드_명              5414 non-null   object \n",
      " 3   아파트_단지_수                5414 non-null   int64  \n",
      " 4   아파트_면적_66_제곱미터_미만_세대_수  5302 non-null   float64\n",
      " 5   아파트_면적_66_제곱미터_세대_수     4992 non-null   float64\n",
      " 6   아파트_면적_99_제곱미터_세대_수     3377 non-null   float64\n",
      " 7   아파트_면적_132_제곱미터_세대_수    1696 non-null   float64\n",
      " 8   아파트_면적_165_제곱미터_세대_수    970 non-null    float64\n",
      " 9   아파트_가격_1_억_미만_세대_수      4454 non-null   float64\n",
      " 10  아파트_가격_1_억_세대_수         5083 non-null   float64\n",
      " 11  아파트_가격_2_억_세대_수         4871 non-null   float64\n",
      " 12  아파트_가격_3_억_세대_수         3442 non-null   float64\n",
      " 13  아파트_가격_4_억_세대_수         2236 non-null   float64\n",
      " 14  아파트_가격_5_억_세대_수         1585 non-null   float64\n",
      " 15  아파트_가격_6_억_이상_세대_수      1330 non-null   float64\n",
      " 16  아파트_평균_면적               5414 non-null   int64  \n",
      " 17  아파트_평균_시가               5414 non-null   int64  \n",
      " 18  기준_분기_코드                5414 non-null   int64  \n",
      " 19  상권_코드                   5414 non-null   int64  \n",
      " 20  상권_코드_명                 5414 non-null   object \n",
      "dtypes: float64(12), int64(6), object(3)\n",
      "memory usage: 930.5+ KB\n"
     ]
    }
   ],
   "source": [
    "gu_apt = pd.read_csv('04_구_상권_아파트.csv', encoding='cp949')\n",
    "gu_apt[gu_apt['기준_년_코드']==2021].info()"
   ]
  },
  {
   "cell_type": "code",
   "execution_count": 8,
   "id": "546d2db7",
   "metadata": {},
   "outputs": [
    {
     "name": "stdout",
     "output_type": "stream",
     "text": [
      "<class 'pandas.core.frame.DataFrame'>\n",
      "Int64Index: 5803 entries, 0 to 5802\n",
      "Data columns (total 26 columns):\n",
      " #   Column      Non-Null Count  Dtype  \n",
      "---  ------      --------------  -----  \n",
      " 0   기준_년_코드     5803 non-null   int64  \n",
      " 1   상권_구분_코드    5803 non-null   object \n",
      " 2   상권_구분_코드_명  5803 non-null   object \n",
      " 3   상권_코드       5803 non-null   int64  \n",
      " 4   상권_코드_명     5803 non-null   object \n",
      " 5   집객시설_수      5803 non-null   int64  \n",
      " 6   관공서_수       2011 non-null   float64\n",
      " 7   은행_수        1938 non-null   float64\n",
      " 8   종합병원_수      72 non-null     float64\n",
      " 9   일반_병원_수     421 non-null    float64\n",
      " 10  약국_수        4042 non-null   float64\n",
      " 11  유치원_수       589 non-null    float64\n",
      " 12  초등학교_수      196 non-null    float64\n",
      " 13  중학교_수       66 non-null     float64\n",
      " 14  고등학교_수      56 non-null     float64\n",
      " 15  대학교_수       167 non-null    float64\n",
      " 16  백화점_수       36 non-null     float64\n",
      " 17  슈퍼마켓_수      408 non-null    float64\n",
      " 18  극장_수        125 non-null    float64\n",
      " 19  숙박_시설_수     1095 non-null   float64\n",
      " 20  공항_수        0 non-null      float64\n",
      " 21  철도_역_수      0 non-null      float64\n",
      " 22  버스_터미널_수    0 non-null      float64\n",
      " 23  지하철_역_수     465 non-null    float64\n",
      " 24  버스_정거장_수    4513 non-null   float64\n",
      " 25  기준_분기_코드    5803 non-null   int64  \n",
      "dtypes: float64(19), int64(4), object(3)\n",
      "memory usage: 1.2+ MB\n"
     ]
    }
   ],
   "source": [
    "gu_infra = pd.read_csv('04_구_상권_집객시설.csv', encoding='cp949')\n",
    "gu_infra[gu_infra['기준_년_코드']==2021].info()"
   ]
  }
 ],
 "metadata": {
  "kernelspec": {
   "display_name": "Python 3 (ipykernel)",
   "language": "python",
   "name": "python3"
  },
  "language_info": {
   "codemirror_mode": {
    "name": "ipython",
    "version": 3
   },
   "file_extension": ".py",
   "mimetype": "text/x-python",
   "name": "python",
   "nbconvert_exporter": "python",
   "pygments_lexer": "ipython3",
   "version": "3.9.13"
  }
 },
 "nbformat": 4,
 "nbformat_minor": 5
}
